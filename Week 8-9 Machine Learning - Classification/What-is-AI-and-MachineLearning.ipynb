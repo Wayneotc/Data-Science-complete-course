{
 "cells": [
  {
   "cell_type": "markdown",
   "metadata": {},
   "source": [
    "# What is Artificial Intelligence and Machine Learning?"
   ]
  },
  {
   "cell_type": "markdown",
   "metadata": {},
   "source": [
    "## Artificial Intelligence"
   ]
  },
  {
   "cell_type": "markdown",
   "metadata": {},
   "source": [
    "### Artificial:\n",
    "made or produced by human beings rather than occurring naturally, especially as a copy of something natural."
   ]
  },
  {
   "cell_type": "markdown",
   "metadata": {},
   "source": [
    "### Intelligence: \n",
    "the ability to acquire and apply knowledge and skills"
   ]
  },
  {
   "cell_type": "markdown",
   "metadata": {},
   "source": [
    "So basically in Artificial Intelligence we create some sort of Machine in which we program the “Ability to acquire and apply knowledge and skills”.\n",
    "\n",
    "So using this intelligence it learns by previous experiences that means we do not need to program each and every instruction and we use either Data or we reward the machine whenever it does some task that we want it to do. And day by day it learns the task we want it to do."
   ]
  },
  {
   "cell_type": "markdown",
   "metadata": {},
   "source": [
    "#### Let's go a bit more deep"
   ]
  },
  {
   "cell_type": "markdown",
   "metadata": {},
   "source": [
    "Our mind can do five primary tasks:\n",
    "    1. Classify things (this is red that is blue)\n",
    "    2. Predict (if I will invest into this company I may get good returns)\n",
    "    3. Cluster (this friendship group is not good for me let’s move to some other)\n",
    "    4. Recommend (hey, you should read this book or this video or this game)\n",
    "    5. Decision Making (I won’t go out today as there are some violence going on in the city)"
   ]
  },
  {
   "cell_type": "markdown",
   "metadata": {},
   "source": [
    "We all know that humans are intelligent species and this is because human mind can do these five above tasks.\n",
    "\n",
    "So if we give a machine an ability to do these five tasks then it will be called an Artificially Intelligent Machine"
   ]
  },
  {
   "cell_type": "markdown",
   "metadata": {},
   "source": [
    "Okay, so now you know what are Artificially Intelligent Machines now let’s talk about how this intelligence is achieved."
   ]
  },
  {
   "cell_type": "markdown",
   "metadata": {},
   "source": [
    "### AI is divided into four basic parts"
   ]
  },
  {
   "cell_type": "markdown",
   "metadata": {},
   "source": [
    "#### 1. Machine Learning\n",
    "#### 2. Optimization Theory\n",
    "#### 3. Evolutionary Computation\n",
    "#### 4. Fuzzy Mathematics"
   ]
  },
  {
   "cell_type": "markdown",
   "metadata": {},
   "source": [
    "## Machine Learning"
   ]
  },
  {
   "cell_type": "markdown",
   "metadata": {},
   "source": [
    "Machine Learning is the branch of Artificial Intelligence by which we can do all the five tasks,\n",
    "1. Classification\n",
    "2. Prediction\n",
    "3. Clustering\n",
    "4. Recommendation\n",
    "5. Decision Making"
   ]
  },
  {
   "cell_type": "markdown",
   "metadata": {},
   "source": [
    "### Machine Learning is divided into three parts:"
   ]
  },
  {
   "cell_type": "markdown",
   "metadata": {},
   "source": [
    "#### 1. Supervised Machine Learning\n",
    "#### 2. Unsupervised Machine Learning\n",
    "#### 3. Reinforcement Learning"
   ]
  },
  {
   "cell_type": "markdown",
   "metadata": {},
   "source": [
    "### 1. Supervised Machine Learning "
   ]
  },
  {
   "cell_type": "markdown",
   "metadata": {},
   "source": [
    "In Supervised Machine Learning we have a Data which has got answers, so first Machine Guesses the answer and then compares it to actual answer, then it guesses more near to actual answer and it again compares, it repeats this process until it reaches the nearest to the actual answer."
   ]
  },
  {
   "cell_type": "markdown",
   "metadata": {},
   "source": [
    "This thing is done by Optimization and we have to minimize machine's error which it makes while guessing the answer."
   ]
  },
  {
   "cell_type": "markdown",
   "metadata": {},
   "source": [
    "### 2. Unsupervised Machine Learning"
   ]
  },
  {
   "cell_type": "markdown",
   "metadata": {},
   "source": [
    "In Unsupervised Machine Learning there is Data which has got no answers, so Machine can guess and compare it answer here. \n",
    "And here comes the Magic, \n",
    "Machine tries to find some pattern in Data and by that we can accomplish many tasks one of which is Clustering and then Recommendation that is based on Clustering"
   ]
  },
  {
   "cell_type": "markdown",
   "metadata": {},
   "source": [
    "### 3. Reinforcement Learning"
   ]
  },
  {
   "cell_type": "markdown",
   "metadata": {},
   "source": [
    "In Reinforcement Learning there is no Data Machine learns by doing mistakes,\n",
    "It is same as teaching your own child, you leave your child in open ground and if he does something wrong you scold him and then he understands that doing such task is not good for my health so I should'nt do it and this is how he learns how to manage his health better and be healthy in whole life.\n",
    "\n",
    "Similarly, we leave Machine in an open enviornment and program it to do almost everything(something like Permutation and Combination, we do not hard code it) and Machine does all the tasks and to make it learn a specific task we reward it for doing that and punish it for doing any other task and this is how Machine knows that what its Master wants."
   ]
  }
 ],
 "metadata": {
  "kernelspec": {
   "display_name": "Python 3",
   "language": "python",
   "name": "python3"
  },
  "language_info": {
   "codemirror_mode": {
    "name": "ipython",
    "version": 3
   },
   "file_extension": ".py",
   "mimetype": "text/x-python",
   "name": "python",
   "nbconvert_exporter": "python",
   "pygments_lexer": "ipython3",
   "version": "3.5.1"
  }
 },
 "nbformat": 4,
 "nbformat_minor": 0
}
